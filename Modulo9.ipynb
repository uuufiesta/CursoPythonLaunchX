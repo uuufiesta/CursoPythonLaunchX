{
 "cells": [
  {
   "cell_type": "markdown",
   "source": [
    "# Modulo 9\n",
    "## Uso de funciones en Python\n",
    "### Ejercicio 1: Trabajar con argumentos en funciones\n",
    "Los argumentos requeridos en las funciones se utilizan cuando las funciones necesitan que esos argumentos funcionen correctamente. En este ejercicio, construirás un informe de combustible que requiere información de varias ubicaciones de combustible en todo el cohete.\n",
    "\n",
    "Comienza por crear una función que necesite tres lecturas de combustible y devuelva un informe:"
   ],
   "metadata": {
    "collapsed": false
   }
  },
  {
   "cell_type": "code",
   "execution_count": 3,
   "metadata": {
    "collapsed": true
   },
   "outputs": [],
   "source": [
    "# Funcion para leer 3 tanques de combustible y sacar su promedio\n",
    "def Generar_Reporte(Tanque1, Tanque2, Tanque3):\n",
    "    Promedio = (Tanque1 + Tanque2 + Tanque3) / 3\n",
    "    return f\"\"\" Reporte de combustible:\n",
    "        Promedio: {Promedio}\n",
    "        Tanque 1: {Tanque1}\n",
    "        Tanque 2: {Tanque2}\n",
    "        Tanque 3: {Tanque3}\n",
    "    \"\"\""
   ]
  },
  {
   "cell_type": "markdown",
   "source": [
    "Ahora que hemos definido la función de informes, vamos a comprobarlo. Para esta misión, los tanques no están llenos:"
   ],
   "metadata": {
    "collapsed": false
   }
  },
  {
   "cell_type": "code",
   "execution_count": 4,
   "outputs": [
    {
     "name": "stdout",
     "output_type": "stream",
     "text": [
      " Reporte de combustible:\n",
      "        Promedio: 0.0\n",
      "        Tanque 1: 0\n",
      "        Tanque 2: 0\n",
      "        Tanque 3: 0\n",
      "    \n"
     ]
    }
   ],
   "source": [
    "# Llamamos a la función que genera el reporte print(funcion(tanque1, tanque2, tanque3))\n",
    "print(Generar_Reporte(Tanque1=0,Tanque2=0,Tanque3=0))"
   ],
   "metadata": {
    "collapsed": false,
    "pycharm": {
     "name": "#%%\n"
    }
   }
  },
  {
   "cell_type": "markdown",
   "source": [
    "En lugar de simplemente crear el informe, la función también está calculando el promedio. Mejora la legibilidad extrayendo el cálculo promedio de la función en una nueva función para que el promedio se pueda hacer de forma independiente:"
   ],
   "metadata": {
    "collapsed": false
   }
  },
  {
   "cell_type": "code",
   "execution_count": 5,
   "outputs": [],
   "source": [
    "# Funcion promedio\n",
    "def Promedio(N):\n",
    "    Total = sum(N)\n",
    "    Total_N = len(N)\n",
    "    return Total/Total_N"
   ],
   "metadata": {
    "collapsed": false,
    "pycharm": {
     "name": "#%%\n"
    }
   }
  },
  {
   "cell_type": "markdown",
   "source": [
    "Ahora actualiza la función de informes para llamando a la nueva función del promedio:"
   ],
   "metadata": {
    "collapsed": false
   }
  },
  {
   "cell_type": "code",
   "execution_count": 7,
   "outputs": [
    {
     "name": "stdout",
     "output_type": "stream",
     "text": [
      " Reporte de combustible:\n",
      "        Promedio: 0.0\n",
      "        Tanque 1: 0\n",
      "        Tanque 2: 0\n",
      "        Tanque 3: 0\n",
      "    \n"
     ]
    }
   ],
   "source": [
    "# Actualiza la funcion generar reporte para agregar la funcion promedio\n",
    "def Generar_Reporte(Tanque1, Tanque2, Tanque3):\n",
    "    return f\"\"\" Reporte de combustible:\n",
    "        Promedio: {Promedio([Tanque1, Tanque2, Tanque3])}\n",
    "        Tanque 1: {Tanque1}\n",
    "        Tanque 2: {Tanque2}\n",
    "        Tanque 3: {Tanque3}\n",
    "    \"\"\"\n",
    "\n",
    "print(Generar_Reporte(Tanque1= 0, Tanque2= 0, Tanque3= 0))"
   ],
   "metadata": {
    "collapsed": false,
    "pycharm": {
     "name": "#%%\n"
    }
   }
  },
  {
   "cell_type": "markdown",
   "source": [
    "## Trabajo con argumentos de palabra clave\n",
    "### Ejercicio 2: Trabajar con argumentos de palabras clave en funciones\n",
    "En este ejercicio, construirás un informe de cohete que requiere varias piezas de información, como el tiempo hasta el destino, el combustible a la izquierda y el nombre del destino. Comienza por crear una función que creará un informe preciso de la misión:"
   ],
   "metadata": {
    "collapsed": false
   }
  },
  {
   "cell_type": "code",
   "execution_count": null,
   "outputs": [],
   "source": [
    "# Función con un informe preciso de la misión. Considera hora de prelanzamiento, tiempo de vuelo, destino, tanque externo y tanque interno\n",
    "def Reporte_Completo(Hora_Prelanza,Tiempo_Vuelo,Destino,Tanque_Externo,Tanque_Interno):\n",
    "    return f\"\"\"Reporte de navegacion\n",
    "        Hora de prelanzamiento: {Hora_Prelanza}\n",
    "        Tiempo de vuelo: {Tiempo_Vuelo}\n",
    "        Destino: {Destino}\n",
    "        Tanque externo: {Tanque_Externo}\n",
    "        Tanque interno: {Tanque_Interno}\n",
    "\n",
    "    \"\"\"\n",
    "\n",
    "print(Reporte_Completo(0,0,\"Jupiter\",0,0))"
   ],
   "metadata": {
    "collapsed": false,
    "pycharm": {
     "name": "#%%\n",
     "is_executing": true
    }
   }
  },
  {
   "cell_type": "markdown",
   "source": [
    "La función es problemática porque no se puede adaptar para minutos adicionales o tanques adicionales de combustible. Hazlo más flexible permitiendo cualquier número de pasos basados en el tiempo y cualquier número de tanques. En lugar de usar *args y **kwargs, aprovecha el hecho de que puedes usar cualquier nombre que desees. Asegurate que la función sea más legible mediante el uso de nombres de variables que están asociados con las entradas, como *minutes y **fuel_reservoirs:"
   ],
   "metadata": {
    "collapsed": false
   }
  },
  {
   "cell_type": "code",
   "execution_count": null,
   "outputs": [],
   "source": [
    "# Escribe tu nueva función de reporte considerando lo anterior\n",
    "def Reporte_Completo(Destino, *Minutos, **Combustible):\n",
    "    return f\"\"\"Reporte de navegacion\n",
    "        Destino: {Destino}\n",
    "        Minutos de viaje: {sum(Minutos)}\n",
    "        Combustible actual: {sum(Combustible.values())}\n",
    "\n",
    "    \"\"\"\n",
    "print(Reporte_Completo(\"Jupiter\", 0, 0, 0, principal=250, secundario=600))"
   ],
   "metadata": {
    "collapsed": false,
    "pycharm": {
     "name": "#%%\n",
     "is_executing": true
    }
   }
  },
  {
   "cell_type": "markdown",
   "source": [
    "Debido a que el combustible que queda en los tanques es específico de cada tanque, actualiza la función para usar el nombre de cada tanque en el informe:"
   ],
   "metadata": {
    "collapsed": false
   }
  },
  {
   "cell_type": "code",
   "execution_count": null,
   "outputs": [],
   "source": [
    "# Escribe tu nueva función\n",
    "def Reporte_Completo(Destino, *Minutos, **Combustible):\n",
    "    Reporte = f\"\"\"Reporte de navegacion\n",
    "        Destino: {Destino}\n",
    "        Minutos de viaje: {sum(Minutos)}\n",
    "        Combustible actual: {sum(Combustible.values())}\n",
    "\n",
    "    \"\"\"\n",
    "    for Nombre_Tanque, Galones in Combustible.items():\n",
    "        Reporte += f\"{Nombre_Tanque} le quedan {Galones} galones de combustible\"\n",
    "    return Reporte\n",
    "\n",
    "print(Reporte_Completo(\"Jupiter\", 0, 0, 0, Principal=250, Secundario=600))"
   ],
   "metadata": {
    "collapsed": false,
    "pycharm": {
     "name": "#%%\n",
     "is_executing": true
    }
   }
  },
  {
   "cell_type": "code",
   "execution_count": null,
   "outputs": [],
   "source": [],
   "metadata": {
    "collapsed": false,
    "pycharm": {
     "name": "#%%\n"
    }
   }
  }
 ],
 "metadata": {
  "kernelspec": {
   "display_name": "Python 3",
   "language": "python",
   "name": "python3"
  },
  "language_info": {
   "codemirror_mode": {
    "name": "ipython",
    "version": 2
   },
   "file_extension": ".py",
   "mimetype": "text/x-python",
   "name": "python",
   "nbconvert_exporter": "python",
   "pygments_lexer": "ipython2",
   "version": "2.7.6"
  }
 },
 "nbformat": 4,
 "nbformat_minor": 0
}
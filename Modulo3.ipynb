{
 "cells": [
  {
   "cell_type": "markdown",
   "source": [
    "# Ejercicio if, else, elif"
   ],
   "metadata": {
    "collapsed": false
   }
  },
  {
   "cell_type": "code",
   "execution_count": null,
   "metadata": {
    "collapsed": true,
    "pycharm": {
     "is_executing": true
    }
   },
   "outputs": [],
   "source": [
    "Velocidad = 49\n",
    "\n",
    "if (Velocidad > 25):\n",
    "    print(\"Advertencia la velocidad del asteroide excede el limite\")\n",
    "else:\n",
    "    print(\"El asteroide no es una amenaza\")"
   ]
  },
  {
   "cell_type": "code",
   "execution_count": null,
   "outputs": [],
   "source": [
    "Velocidad = 19\n",
    "\n",
    "if (Velocidad>=20):\n",
    "    print(\"Atencion es posible ver una estrella fugaz\")\n",
    "elif (Velocidad >=20):\n",
    "    print(\"Atencion es posible ver una estrella fugaz\")\n",
    "else:\n",
    "    print(\"No es posible ver una estrella fugaz\")"
   ],
   "metadata": {
    "collapsed": false,
    "pycharm": {
     "name": "#%%\n",
     "is_executing": true
    }
   }
  },
  {
   "cell_type": "markdown",
   "source": [
    "# Ejercicio and, or"
   ],
   "metadata": {
    "collapsed": false
   }
  },
  {
   "cell_type": "code",
   "execution_count": 10,
   "outputs": [
    {
     "name": "stdout",
     "output_type": "stream",
     "text": [
      "No hay peligro alguno\n",
      "No es posible ver una estrella fugaz\n"
     ]
    }
   ],
   "source": [
    "Velocidad = 19\n",
    "Diametro = 10\n",
    "\n",
    "if (Diametro > 25 and Diametro < 1000):\n",
    "    print(\"Atencion, peligro de colision de asteroide, se eperan daños graves\")\n",
    "elif (Diametro > 1000):\n",
    "    print(\"No hay nada que hacer, un gusto en conocerlos\")\n",
    "else:\n",
    "    if (Velocidad >= 25):\n",
    "        print(\"Advertencia la velocidad del asteroide excede el limite\")\n",
    "    else:\n",
    "        print(\"No hay peligro alguno\")\n",
    "        if (Velocidad >= 20 and Velocidad < 25):\n",
    "            print(\"Atencion es posible ver una estrella fugaz\")\n",
    "        else:\n",
    "            print(\"No es posible ver una estrella fugaz\")"
   ],
   "metadata": {
    "collapsed": false,
    "pycharm": {
     "name": "#%%\n"
    }
   }
  }
 ],
 "metadata": {
  "kernelspec": {
   "display_name": "Python 3",
   "language": "python",
   "name": "python3"
  },
  "language_info": {
   "codemirror_mode": {
    "name": "ipython",
    "version": 2
   },
   "file_extension": ".py",
   "mimetype": "text/x-python",
   "name": "python",
   "nbconvert_exporter": "python",
   "pygments_lexer": "ipython2",
   "version": "2.7.6"
  }
 },
 "nbformat": 4,
 "nbformat_minor": 0
}